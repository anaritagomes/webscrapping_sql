{
 "cells": [
  {
   "cell_type": "markdown",
   "metadata": {},
   "source": [
    "## METODOLOGIAS DE RECOLHA DE DADOS - PROJECTO FINAL"
   ]
  },
  {
   "cell_type": "markdown",
   "metadata": {},
   "source": [
    "Requisitos\n",
    "\n",
    "- Autenticação: Garantir que conseguem autenticar, caso seja necessário. \n",
    "(2 valores)\n",
    "- 3 endpoints diferentes: receber esta informação em 3 variáveis diferentes (3 \n",
    "valores)\n",
    "-Transformar esta resposta numa estrutura de dados que dê para trabalhar em \n",
    "Python. (3 valores)\n",
    "- Guardar um destes endpoints num json. (1 valores)\n",
    "- Web scrape pelo menos 3 elementos de uma página (3 valores)\n",
    "- Criar, ligar-se a uma db e criar uma tabela para guardar esta informação (3 \n",
    "valores)\n",
    "- Guardar os elementos de Web scraping para essa tabela (3 valores)\n",
    "- Especificação (2 valores)"
   ]
  },
  {
   "cell_type": "code",
   "execution_count": 183,
   "metadata": {},
   "outputs": [],
   "source": [
    "import json\n",
    "import requests \n",
    "from bs4 import BeautifulSoup"
   ]
  },
  {
   "cell_type": "markdown",
   "metadata": {},
   "source": [
    "## Authentication + storing endpoint information in 3 different variables"
   ]
  },
  {
   "cell_type": "markdown",
   "metadata": {},
   "source": [
    "- Specification: Using the Tronald Dump API (Api & web archive for the dumbest things Donald Trump has ever said), we want to\n",
    "    authenticate using and api-key and reach 3 different endpoints, being them:<br>\n",
    "    1 - GET Quote (get quote by ID)<br>\n",
    "    2 - GET /tag (get quote by tag)<br>\n",
    "    3 - GET /ramdom/quote (get random quote)"
   ]
  },
  {
   "cell_type": "code",
   "execution_count": 184,
   "metadata": {},
   "outputs": [],
   "source": [
    "import requests\n",
    "\n",
    "# get by quote id\n",
    "get_quote_by_id = requests.get(\"https://matchilling-tronald-dump-v1.p.rapidapi.com/quote/VHKwB8crTte7--FqtIxq9A\",\n",
    "  headers={\n",
    "    'x-rapidapi-host': \"matchilling-tronald-dump-v1.p.rapidapi.com\",\n",
    "    'x-rapidapi-key': \"Hb8iIxvlyumshiyQ6jjRBPad86Ajp1ZbrV6jsnLUWqar9lv6tv\",\n",
    "    'accept': \"application/hal+json\"\n",
    "  }\n",
    ")\n",
    "#get_quote_by_id.json()"
   ]
  },
  {
   "cell_type": "code",
   "execution_count": 83,
   "metadata": {},
   "outputs": [],
   "source": [
    "# get quotes by tag\n",
    "get_quote_by_tag = requests.get(\"https://matchilling-tronald-dump-v1.p.rapidapi.com/tag/President Obama\",\n",
    "  headers={\n",
    "    'x-rapidapi-host': \"matchilling-tronald-dump-v1.p.rapidapi.com\",\n",
    "    'x-rapidapi-key': \"Hb8iIxvlyumshiyQ6jjRBPad86Ajp1ZbrV6jsnLUWqar9lv6tv\",\n",
    "    'accept': \"application/hal+json\"\n",
    "  }\n",
    ")\n",
    "#get_quote__by_tag.json()"
   ]
  },
  {
   "cell_type": "code",
   "execution_count": 78,
   "metadata": {},
   "outputs": [],
   "source": [
    "# get random quote\n",
    "get_random_quote = requests.get(\"https://matchilling-tronald-dump-v1.p.rapidapi.com/random/quote\",\n",
    "  headers={\n",
    "    'x-rapidapi-host': \"matchilling-tronald-dump-v1.p.rapidapi.com\",\n",
    "    'x-rapidapi-key': \"Hb8iIxvlyumshiyQ6jjRBPad86Ajp1ZbrV6jsnLUWqar9lv6tv\",\n",
    "    'accept': \"application/hal+json\"\n",
    "  }\n",
    ")\n",
    "#get_random_quote.json()"
   ]
  },
  {
   "cell_type": "markdown",
   "metadata": {},
   "source": [
    "- Note: Endpoint information storing could be done separating base_url from endpoint:"
   ]
  },
  {
   "cell_type": "code",
   "execution_count": 92,
   "metadata": {},
   "outputs": [],
   "source": [
    "base_url = \"https://matchilling-tronald-dump-v1.p.rapidapi.com/\"\n",
    "end_point_random_quote = \"random/quote\"\n",
    "end_point_quote_by_id = \"VHKwB8crTte7--FqtIxq9A\"\n",
    "end_point_quote_by_tag = \"President Obama\"\n",
    "\n",
    "# example for getting random quote\n",
    "response = requests.get(base_url + end_point_random_quote, \n",
    "    headers={\n",
    "        'x-rapidapi-host': \"matchilling-tronald-dump-v1.p.rapidapi.com\",\n",
    "        'x-rapidapi-key': \"Hb8iIxvlyumshiyQ6jjRBPad86Ajp1ZbrV6jsnLUWqar9lv6tv\",\n",
    "        'accept': \"application/hal+json\"\n",
    "    })\n",
    "\n",
    "#response.json()"
   ]
  },
  {
   "cell_type": "markdown",
   "metadata": {},
   "source": [
    "## Transform response into a Python-friendly structure - Dictionary"
   ]
  },
  {
   "cell_type": "markdown",
   "metadata": {},
   "source": [
    "- Specification: we want to save the API's response into a dictionary, so that we can easily manipulate it later on."
   ]
  },
  {
   "cell_type": "code",
   "execution_count": 122,
   "metadata": {},
   "outputs": [
    {
     "data": {
      "text/plain": [
       "dict"
      ]
     },
     "execution_count": 122,
     "metadata": {},
     "output_type": "execute_result"
    }
   ],
   "source": [
    "# Transform quote_by_id into dictionary\n",
    "decoded_quote_by_id = get_by_quote_id.content.decode('utf-8')\n",
    "quote_by_id_json_dict = json.loads(decoded_quote_by_id)\n",
    "quote_by_id_json_dict\n",
    "type(quote_by_id_json_dict)"
   ]
  },
  {
   "cell_type": "code",
   "execution_count": 121,
   "metadata": {},
   "outputs": [
    {
     "data": {
      "text/plain": [
       "dict"
      ]
     },
     "execution_count": 121,
     "metadata": {},
     "output_type": "execute_result"
    }
   ],
   "source": [
    "# Transform quote_by_tag into dictionary\n",
    "decoded_quote_by_tag = get_quote_by_tag.content.decode('utf-8')\n",
    "quote_by_tag_json_dict = json.loads(decoded_quote_by_tag)\n",
    "quote_by_tag_json_dict\n",
    "type(quote_by_tag_json_dict)"
   ]
  },
  {
   "cell_type": "code",
   "execution_count": 123,
   "metadata": {},
   "outputs": [
    {
     "data": {
      "text/plain": [
       "dict"
      ]
     },
     "execution_count": 123,
     "metadata": {},
     "output_type": "execute_result"
    }
   ],
   "source": [
    "# Transform random_quote into dictionary\n",
    "decoded_random_quote = get_random_quote.content.decode('utf-8')\n",
    "random_quote_json_dict = json.loads(decoded_random_quote)\n",
    "random_quote_json_dict\n",
    "type(random_quote_json_dict)"
   ]
  },
  {
   "cell_type": "markdown",
   "metadata": {},
   "source": [
    "## Saving endpoint in JSON"
   ]
  },
  {
   "cell_type": "markdown",
   "metadata": {},
   "source": [
    "- Specification: We want to save the content of the random quote endpoint in a JSON file."
   ]
  },
  {
   "cell_type": "code",
   "execution_count": 185,
   "metadata": {},
   "outputs": [],
   "source": [
    "# This creates a .json file in the same directory\n",
    "with open('random_quote_json.json', 'w') as output_file:\n",
    "    json.dump(random_quote_json_dict, output_file)\n",
    "\n",
    "#random_quote_json_dict"
   ]
  },
  {
   "cell_type": "markdown",
   "metadata": {},
   "source": [
    "## Web scrape (3 elements of a page)"
   ]
  },
  {
   "cell_type": "markdown",
   "metadata": {},
   "source": [
    "- Specification: We want to web scrape 3 elements of the page https://www.boredpanda.com/lazy-animals-illustration-guodong-zhao/ :<br>Title of the post, author(s) and time ago."
   ]
  },
  {
   "cell_type": "code",
   "execution_count": 126,
   "metadata": {},
   "outputs": [],
   "source": [
    "def get_data(url, parse):\n",
    "    \"\"\"\n",
    "    returns a parsed html \n",
    "    \"\"\"\n",
    "    raw_html = requests.get(url, parse).content\n",
    "    return BeautifulSoup(raw_html)"
   ]
  },
  {
   "cell_type": "code",
   "execution_count": 137,
   "metadata": {},
   "outputs": [],
   "source": [
    "url = \"https://www.boredpanda.com/lazy-animals-illustration-guodong-zhao/\"\n",
    "html = get_data(url, 'html.parse')\n",
    "#html"
   ]
  },
  {
   "cell_type": "code",
   "execution_count": 146,
   "metadata": {},
   "outputs": [
    {
     "data": {
      "text/plain": [
       "'Chinese Artist Pokes Fun At Our Lazy Generation By Creating 20 Slothful Animals Engrossed In Technology'"
      ]
     },
     "execution_count": 146,
     "metadata": {},
     "output_type": "execute_result"
    }
   ],
   "source": [
    "# Fetch Title <h1 class \"post-title\">\n",
    "title = html.find(\"h1\", class_=\"post-title\")\n",
    "title.get_text()\n"
   ]
  },
  {
   "cell_type": "code",
   "execution_count": 166,
   "metadata": {},
   "outputs": [
    {
     "data": {
      "text/plain": [
       "'5 hours ago'"
      ]
     },
     "execution_count": 166,
     "metadata": {},
     "output_type": "execute_result"
    }
   ],
   "source": [
    "# Fetch time ago <span class = \"date-info\">\n",
    "x_time_ago = html.find(\"span\", class_=\"date-info\")\n",
    "x_time_ago.get_text()"
   ]
  },
  {
   "cell_type": "code",
   "execution_count": 186,
   "metadata": {},
   "outputs": [
    {
     "data": {
      "text/plain": [
       "'Hidreley and Airinga Cheerwin  '"
      ]
     },
     "execution_count": 186,
     "metadata": {},
     "output_type": "execute_result"
    }
   ],
   "source": [
    "# Fetch authors <span class = \"post-author-links\"\n",
    "authors = html.find(\"span\", class_=\"post-authors-links\")\n",
    "authors.get_text()"
   ]
  },
  {
   "cell_type": "markdown",
   "metadata": {},
   "source": [
    "## Create DB, connect and create table to store previous information"
   ]
  },
  {
   "cell_type": "markdown",
   "metadata": {},
   "source": [
    "- Specification: We want to create an sqlite database, and store the information we gathered from the web scrapping process<br> (post-title, author(s) and time ago)"
   ]
  },
  {
   "cell_type": "code",
   "execution_count": 182,
   "metadata": {},
   "outputs": [
    {
     "data": {
      "text/html": [
       "<div>\n",
       "<style scoped>\n",
       "    .dataframe tbody tr th:only-of-type {\n",
       "        vertical-align: middle;\n",
       "    }\n",
       "\n",
       "    .dataframe tbody tr th {\n",
       "        vertical-align: top;\n",
       "    }\n",
       "\n",
       "    .dataframe thead th {\n",
       "        text-align: right;\n",
       "    }\n",
       "</style>\n",
       "<table border=\"1\" class=\"dataframe\">\n",
       "  <thead>\n",
       "    <tr style=\"text-align: right;\">\n",
       "      <th></th>\n",
       "      <th>title</th>\n",
       "      <th>authors</th>\n",
       "      <th>time_ago</th>\n",
       "    </tr>\n",
       "  </thead>\n",
       "  <tbody>\n",
       "    <tr>\n",
       "      <th>0</th>\n",
       "      <td>Chinese Artist Pokes Fun At Our Lazy Generatio...</td>\n",
       "      <td>Hidreley and Airinga Cheerwin</td>\n",
       "      <td>5 hours ago</td>\n",
       "    </tr>\n",
       "  </tbody>\n",
       "</table>\n",
       "</div>"
      ],
      "text/plain": [
       "                                               title  \\\n",
       "0  Chinese Artist Pokes Fun At Our Lazy Generatio...   \n",
       "\n",
       "                           authors     time_ago  \n",
       "0  Hidreley and Airinga Cheerwin    5 hours ago  "
      ]
     },
     "execution_count": 182,
     "metadata": {},
     "output_type": "execute_result"
    }
   ],
   "source": [
    "import pandas as pd\n",
    "# Create DataFrame with scrapping data\n",
    "d = {'title': [title.get_text()],'authors': [authors.get_text()],'time_ago':[x_time_ago.get_text()]}\n",
    "\n",
    "df = pd.DataFrame(d)\n",
    "df"
   ]
  },
  {
   "cell_type": "code",
   "execution_count": 189,
   "metadata": {},
   "outputs": [],
   "source": [
    "# Create DB\n",
    "import sqlite3\n",
    "\n",
    "db = 'python.sqlite.db'"
   ]
  },
  {
   "cell_type": "code",
   "execution_count": 199,
   "metadata": {},
   "outputs": [],
   "source": [
    "query_create_table = \"\"\" CREATE TABLE IF NOT EXISTS bored_panda_data (\n",
    "                                    title,\n",
    "                                    authors,\n",
    "                                    time_ago\n",
    "                                ); \"\"\""
   ]
  },
  {
   "cell_type": "code",
   "execution_count": 228,
   "metadata": {},
   "outputs": [],
   "source": [
    "# start connection\n",
    "conn = sqlite3.connect(db)\n",
    "# create cursor\n",
    "cur = conn.cursor()"
   ]
  },
  {
   "cell_type": "code",
   "execution_count": 229,
   "metadata": {},
   "outputs": [
    {
     "data": {
      "text/plain": [
       "<sqlite3.Cursor at 0xc060c60>"
      ]
     },
     "execution_count": 229,
     "metadata": {},
     "output_type": "execute_result"
    }
   ],
   "source": [
    "cur.execute(query_create_table)"
   ]
  },
  {
   "cell_type": "code",
   "execution_count": 230,
   "metadata": {},
   "outputs": [],
   "source": [
    "query = \"\"\"\n",
    "    INSERT INTO bored_panda_data\n",
    "    (title, authors, time_ago)\n",
    "    VALUES ({}, {}, {})\n",
    "\"\"\""
   ]
  },
  {
   "cell_type": "code",
   "execution_count": 231,
   "metadata": {},
   "outputs": [
    {
     "name": "stdout",
     "output_type": "stream",
     "text": [
      "title       Chinese Artist Pokes Fun At Our Lazy Generatio...\n",
      "authors                       Hidreley and Airinga Cheerwin  \n",
      "time_ago                                          5 hours ago\n",
      "Name: 0, dtype: object\n"
     ]
    }
   ],
   "source": [
    "for _, row in df.iterrows():\n",
    "    print(row)\n",
    "    break"
   ]
  },
  {
   "cell_type": "code",
   "execution_count": 232,
   "metadata": {},
   "outputs": [],
   "source": [
    "for _, row in df.iterrows():\n",
    "    #cur.execute(query.format(row['title'], row['authors'], row['time_ago']))\n",
    "    cur.execute(\"INSERT INTO bored_panda_data VALUES (?, ?, ?)\", (row['title'], row['authors'], row['time_ago']))\n",
    "conn.commit()\n",
    "\n",
    "# first execute gave problems, see: https://stackoverflow.com/questions/30257826/sqlite3-operationalerror-near-syntax-error-python"
   ]
  },
  {
   "cell_type": "code",
   "execution_count": 234,
   "metadata": {},
   "outputs": [
    {
     "data": {
      "text/html": [
       "<div>\n",
       "<style scoped>\n",
       "    .dataframe tbody tr th:only-of-type {\n",
       "        vertical-align: middle;\n",
       "    }\n",
       "\n",
       "    .dataframe tbody tr th {\n",
       "        vertical-align: top;\n",
       "    }\n",
       "\n",
       "    .dataframe thead th {\n",
       "        text-align: right;\n",
       "    }\n",
       "</style>\n",
       "<table border=\"1\" class=\"dataframe\">\n",
       "  <thead>\n",
       "    <tr style=\"text-align: right;\">\n",
       "      <th></th>\n",
       "      <th>title</th>\n",
       "      <th>authors</th>\n",
       "      <th>time_ago</th>\n",
       "    </tr>\n",
       "  </thead>\n",
       "  <tbody>\n",
       "    <tr>\n",
       "      <th>0</th>\n",
       "      <td>Chinese Artist Pokes Fun At Our Lazy Generatio...</td>\n",
       "      <td>Hidreley and Airinga Cheerwin</td>\n",
       "      <td>5 hours ago</td>\n",
       "    </tr>\n",
       "    <tr>\n",
       "      <th>1</th>\n",
       "      <td>Chinese Artist Pokes Fun At Our Lazy Generatio...</td>\n",
       "      <td>Hidreley and Airinga Cheerwin</td>\n",
       "      <td>5 hours ago</td>\n",
       "    </tr>\n",
       "    <tr>\n",
       "      <th>2</th>\n",
       "      <td>Chinese Artist Pokes Fun At Our Lazy Generatio...</td>\n",
       "      <td>Hidreley and Airinga Cheerwin</td>\n",
       "      <td>5 hours ago</td>\n",
       "    </tr>\n",
       "  </tbody>\n",
       "</table>\n",
       "</div>"
      ],
      "text/plain": [
       "                                               title  \\\n",
       "0  Chinese Artist Pokes Fun At Our Lazy Generatio...   \n",
       "1  Chinese Artist Pokes Fun At Our Lazy Generatio...   \n",
       "2  Chinese Artist Pokes Fun At Our Lazy Generatio...   \n",
       "\n",
       "                           authors     time_ago  \n",
       "0  Hidreley and Airinga Cheerwin    5 hours ago  \n",
       "1  Hidreley and Airinga Cheerwin    5 hours ago  \n",
       "2  Hidreley and Airinga Cheerwin    5 hours ago  "
      ]
     },
     "execution_count": 234,
     "metadata": {},
     "output_type": "execute_result"
    }
   ],
   "source": [
    "pd.read_sql('select * from bored_panda_data', con=conn)\n",
    "\n",
    "#Note: The fact of the table having 3 rows despite the DataFrame having 1, is due to 3 executions of the same commit"
   ]
  },
  {
   "cell_type": "code",
   "execution_count": 222,
   "metadata": {},
   "outputs": [],
   "source": [
    "# close connection in order to avoid memory leaks\n",
    "conn.close()"
   ]
  }
 ],
 "metadata": {
  "kernelspec": {
   "display_name": "Python 3",
   "language": "python",
   "name": "python3"
  },
  "language_info": {
   "codemirror_mode": {
    "name": "ipython",
    "version": 3
   },
   "file_extension": ".py",
   "mimetype": "text/x-python",
   "name": "python",
   "nbconvert_exporter": "python",
   "pygments_lexer": "ipython3",
   "version": "3.7.4"
  }
 },
 "nbformat": 4,
 "nbformat_minor": 4
}
